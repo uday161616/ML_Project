{
  "nbformat": 4,
  "nbformat_minor": 0,
  "metadata": {
    "colab": {
      "provenance": [],
      "authorship_tag": "ABX9TyMqk40zwUjjVcF+MZMXQrGq",
      "include_colab_link": true
    },
    "kernelspec": {
      "name": "python3",
      "display_name": "Python 3"
    },
    "language_info": {
      "name": "python"
    }
  },
  "cells": [
    {
      "cell_type": "markdown",
      "metadata": {
        "id": "view-in-github",
        "colab_type": "text"
      },
      "source": [
        "<a href=\"https://colab.research.google.com/github/uday161616/ML_Project/blob/main/python_tut3_dictionaries.ipynb\" target=\"_parent\"><img src=\"https://colab.research.google.com/assets/colab-badge.svg\" alt=\"Open In Colab\"/></a>"
      ]
    },
    {
      "cell_type": "code",
      "source": [
        "#dictionaries are unordered , contains key-value pairs and mutable"
      ],
      "metadata": {
        "id": "qoTGrd3NXNbf"
      },
      "execution_count": null,
      "outputs": []
    },
    {
      "cell_type": "code",
      "execution_count": 12,
      "metadata": {
        "colab": {
          "base_uri": "https://localhost:8080/"
        },
        "id": "RNQCI0kpA81F",
        "outputId": "583960c7-b3fe-47cf-b732-7f7765ebdb59"
      },
      "outputs": [
        {
          "output_type": "execute_result",
          "data": {
            "text/plain": [
              "{'name': 'uday', 'age': 22, 'role': 'ds'}"
            ]
          },
          "metadata": {},
          "execution_count": 12
        }
      ],
      "source": [
        "#initalize a dictionaries\n",
        "mydict  = {'name' : 'uday', 'age' : 22,'role' : 'ds'}\n",
        "mydict"
      ]
    },
    {
      "cell_type": "code",
      "source": [
        "mydict = dict(name = 'uday',age = 22,role  = 'ds')\n",
        "mydict"
      ],
      "metadata": {
        "colab": {
          "base_uri": "https://localhost:8080/"
        },
        "id": "YS4NK5UVXcQk",
        "outputId": "a64fb6ff-b748-47af-d30e-531e9f0093b1"
      },
      "execution_count": 7,
      "outputs": [
        {
          "output_type": "execute_result",
          "data": {
            "text/plain": [
              "{'name': 'uday', 'age': 22, 'role': 'ds'}"
            ]
          },
          "metadata": {},
          "execution_count": 7
        }
      ]
    },
    {
      "cell_type": "code",
      "source": [
        "#how to delete a key\n",
        "del mydict[\"name\"]\n",
        "print(mydict)"
      ],
      "metadata": {
        "colab": {
          "base_uri": "https://localhost:8080/"
        },
        "id": "a0TBg7o3X7S8",
        "outputId": "d8214281-3ff5-4052-b42d-193489569120"
      },
      "execution_count": 13,
      "outputs": [
        {
          "output_type": "stream",
          "name": "stdout",
          "text": [
            "{'age': 22, 'role': 'ds'}\n"
          ]
        }
      ]
    },
    {
      "cell_type": "code",
      "source": [
        "mydict.pop('age')\n",
        "mydict"
      ],
      "metadata": {
        "colab": {
          "base_uri": "https://localhost:8080/"
        },
        "id": "WdV5Q_DXYhB5",
        "outputId": "055f205a-fd08-455d-a2a1-f6c23232f9a6"
      },
      "execution_count": 14,
      "outputs": [
        {
          "output_type": "execute_result",
          "data": {
            "text/plain": [
              "{'role': 'ds'}"
            ]
          },
          "metadata": {},
          "execution_count": 14
        }
      ]
    },
    {
      "cell_type": "code",
      "source": [
        "#delete the last inserted key\n",
        "mydict  = {'name' : 'uday', 'age' : 22,'role' : 'ds'}\n",
        "mydict.popitem()\n",
        "mydict\n"
      ],
      "metadata": {
        "colab": {
          "base_uri": "https://localhost:8080/"
        },
        "id": "MMyqtiBYYoRu",
        "outputId": "04969618-5c0b-492d-9e02-1e3e7dbc5045"
      },
      "execution_count": 15,
      "outputs": [
        {
          "output_type": "execute_result",
          "data": {
            "text/plain": [
              "{'name': 'uday', 'age': 22}"
            ]
          },
          "metadata": {},
          "execution_count": 15
        }
      ]
    },
    {
      "cell_type": "code",
      "source": [
        "#how to iterate keys\n",
        "if 'name' in mydict:\n",
        "  print(mydict['name'])"
      ],
      "metadata": {
        "colab": {
          "base_uri": "https://localhost:8080/"
        },
        "id": "zWArRzKuZtpi",
        "outputId": "2d78cf47-3f3c-4926-c4ea-413e14660b06"
      },
      "execution_count": 16,
      "outputs": [
        {
          "output_type": "stream",
          "name": "stdout",
          "text": [
            "uday\n"
          ]
        }
      ]
    },
    {
      "cell_type": "code",
      "source": [
        "for keys in mydict.keys():\n",
        "  print(keys)"
      ],
      "metadata": {
        "colab": {
          "base_uri": "https://localhost:8080/"
        },
        "id": "k08Lc4iuapPa",
        "outputId": "01a9bee7-3cdc-4354-bc02-97e72abf06ac"
      },
      "execution_count": 22,
      "outputs": [
        {
          "output_type": "stream",
          "name": "stdout",
          "text": [
            "name\n",
            "age\n"
          ]
        }
      ]
    },
    {
      "cell_type": "code",
      "source": [
        "try:\n",
        "  print(mydict['name'])\n",
        "except:\n",
        "  print('no')"
      ],
      "metadata": {
        "colab": {
          "base_uri": "https://localhost:8080/"
        },
        "id": "uBak5ceUatdL",
        "outputId": "5a5c8609-dacd-4981-fe96-8e5256c97d10"
      },
      "execution_count": 20,
      "outputs": [
        {
          "output_type": "stream",
          "name": "stdout",
          "text": [
            "uday\n"
          ]
        }
      ]
    },
    {
      "cell_type": "code",
      "source": [
        "for values in mydict.values():\n",
        "  print(values)"
      ],
      "metadata": {
        "colab": {
          "base_uri": "https://localhost:8080/"
        },
        "id": "Amgy_CGFbApn",
        "outputId": "48a63d41-5cd2-4b49-f5ec-6d1b766170a9"
      },
      "execution_count": 23,
      "outputs": [
        {
          "output_type": "stream",
          "name": "stdout",
          "text": [
            "uday\n",
            "22\n"
          ]
        }
      ]
    },
    {
      "cell_type": "code",
      "source": [
        "for keys,values in mydict.items():\n",
        "  print(keys,values)\n",
        ""
      ],
      "metadata": {
        "colab": {
          "base_uri": "https://localhost:8080/"
        },
        "id": "0z8yPo_8b2Uw",
        "outputId": "1dc1b81e-1198-4110-a045-696351b40668"
      },
      "execution_count": 24,
      "outputs": [
        {
          "output_type": "stream",
          "name": "stdout",
          "text": [
            "name uday\n",
            "age 22\n"
          ]
        }
      ]
    },
    {
      "cell_type": "code",
      "source": [
        "#how to copy a dictionary\n",
        "\n",
        "newdict = mydict.copy()\n",
        "newdict"
      ],
      "metadata": {
        "colab": {
          "base_uri": "https://localhost:8080/"
        },
        "id": "g-hJBIjQcFhU",
        "outputId": "fc5b8e4b-6df5-4fda-c9ac-145b499c5f20"
      },
      "execution_count": 25,
      "outputs": [
        {
          "output_type": "execute_result",
          "data": {
            "text/plain": [
              "{'name': 'uday', 'age': 22}"
            ]
          },
          "metadata": {},
          "execution_count": 25
        }
      ]
    },
    {
      "cell_type": "code",
      "source": [
        "newdict = dict(mydict)\n",
        "newdict"
      ],
      "metadata": {
        "colab": {
          "base_uri": "https://localhost:8080/"
        },
        "id": "Dh_MK4MjcQNF",
        "outputId": "8e8d7a1c-c083-426d-d27f-9c2605b41bde"
      },
      "execution_count": 27,
      "outputs": [
        {
          "output_type": "execute_result",
          "data": {
            "text/plain": [
              "{'name': 'uday', 'age': 22}"
            ]
          },
          "metadata": {},
          "execution_count": 27
        }
      ]
    },
    {
      "cell_type": "code",
      "source": [
        "#can a tuple be a dictionary key(yes)\n",
        "\n",
        "mytuple = (1,3,5)\n",
        "mydict2 = {mytuple: 56}\n",
        "mydict2"
      ],
      "metadata": {
        "colab": {
          "base_uri": "https://localhost:8080/"
        },
        "id": "kfhbLWVocZ0N",
        "outputId": "40cbe595-df92-48b7-e633-22e2de8d84cf"
      },
      "execution_count": 32,
      "outputs": [
        {
          "output_type": "execute_result",
          "data": {
            "text/plain": [
              "{(1, 3, 5): 56}"
            ]
          },
          "metadata": {},
          "execution_count": 32
        }
      ]
    },
    {
      "cell_type": "code",
      "source": [
        "#update the dictionary\n",
        "mydist.update(mydict2)\n",
        "mydist"
      ],
      "metadata": {
        "colab": {
          "base_uri": "https://localhost:8080/"
        },
        "id": "dLycMW21c1gU",
        "outputId": "0310e016-f906-4e1f-afa0-5215d0ada012"
      },
      "execution_count": 33,
      "outputs": [
        {
          "output_type": "execute_result",
          "data": {
            "text/plain": [
              "{'name': 'uday', 'age': 22, 'role': 'ds', (1, 3, 5): 56}"
            ]
          },
          "metadata": {},
          "execution_count": 33
        }
      ]
    },
    {
      "cell_type": "code",
      "source": [],
      "metadata": {
        "id": "Ok8RD1qoeyQM"
      },
      "execution_count": null,
      "outputs": []
    }
  ]
}